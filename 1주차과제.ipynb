{
  "nbformat": 4,
  "nbformat_minor": 0,
  "metadata": {
    "colab": {
      "name": "Test1.ipynb",
      "provenance": [],
      "collapsed_sections": [],
      "authorship_tag": "ABX9TyODLi2phghll6xC6CzCCL5k",
      "include_colab_link": true
    },
    "kernelspec": {
      "name": "python3",
      "display_name": "Python 3"
    }
  },
  "cells": [
    {
      "cell_type": "markdown",
      "metadata": {
        "id": "view-in-github",
        "colab_type": "text"
      },
      "source": [
        "<a href=\"https://colab.research.google.com/github/JEONGHWANMIN/Test1-/blob/master/Test1.ipynb\" target=\"_parent\"><img src=\"https://colab.research.google.com/assets/colab-badge.svg\" alt=\"Open In Colab\"/></a>"
      ]
    },
    {
      "cell_type": "markdown",
      "metadata": {
        "id": "Sr3ksQMu3VFa",
        "colab_type": "text"
      },
      "source": [
        "# 광주 인공지능 사관학교 1주차 과제!"
      ]
    },
    {
      "cell_type": "markdown",
      "metadata": {
        "id": "VjDQGsi2793d",
        "colab_type": "text"
      },
      "source": [
        "## 1.언어\n",
        "\n",
        "---\n",
        "\n",
        "\n",
        "###1.   Naver Papago\n",
        "\n",
        "\n",
        "*   네이버 산하의 기술연구소인 '네이버랩스'가 개발한 인공신경망(ANN, Artificial Neural Network)은 스스로 빅데이터를 학습하고 이를 기반으로 통·번역 서비스를 제공한다.\n",
        "\n",
        "\n",
        "###2.   Gogle 번역기\n",
        "\n",
        "\n",
        "*   구글 번역은 텍스트 번역을 위해 구글이 무료로 제공하는 다언어 기계 번역 서비스이다.\n",
        "\n",
        "[네이버파파](https://namu.wiki/w/%EB%84%A4%EC%9D%B4%EB%B2%84%20%ED%8C%8C%ED%8C%8C%EA%B3%A0?from=%ED%8C%8C%ED%8C%8C%EA%B3%A0)\n",
        "[구글번역](https://ko.wikipedia.org/wiki/%EA%B5%AC%EA%B8%80_%EB%B2%88%EC%97%AD)\n",
        "\n",
        "<img src='https://drive.google.com/uc?id=1HZA3tRVRB_JSX0KyRw2opNS9Y76dUGAz' \n",
        "width='600'>\n",
        "\n",
        "\n",
        "\n",
        "\n",
        "---\n",
        "\n",
        "\n",
        "```\n",
        "언어 분야는 평소에도 많이 썻었지만 \n",
        "막상 인공지능이란 걸 의식하니 더 새롭게 느껴집니다.\n",
        "AI성장속도가 무서운거 같습니다. \n",
        "최근 파파고만 쓰더라도 번역을 거의 정확하게 \n",
        "해내니 일상속에 알게모르게 쓰이는 AI가 많은거 같습니다.\n",
        "```\n",
        "\n",
        "\n",
        "\n",
        "\n",
        "\n",
        "\n",
        "\n"
      ]
    },
    {
      "cell_type": "markdown",
      "metadata": {
        "id": "YXq5kf0N9ClQ",
        "colab_type": "text"
      },
      "source": [
        "## 2.음성\n",
        "\n",
        "---\n",
        "\n",
        "\n",
        "\n",
        "###1.   typecast\n",
        "*   타입캐스트는 인공지능 딥러닝 기술을 활용해 특정인의 목소리 스타일, 특징 등을 학습하여 누구든지 개성과 감성이 담긴 오디오 컨텐츠를 생성할 수 있는 서비스입니다.\n",
        "###2.   소리자바\n",
        "*   최고의 속기 기업이 만든 최고의 음성인식!\n",
        "음성인식 비즈니스에 필요한 모든 것이 소리자바에 있습니다.\n",
        "\n",
        "[typecast](https://typecast.ai/)\n",
        "[소리자바](https://www.sorizava.co.kr/)\n",
        "\n",
        "<img src='https://drive.google.com/uc?id=1heHxODwbXSYX9nxrdT3LXpnv_PR41s44' width='600'>\n",
        "\n",
        "---\n",
        "\n",
        "\n",
        "```\n",
        "인공지능 음성 부분은 일단 내 실생활에서 쓰이는것은 빅스비가 있습니다. \n",
        "AI가 자신의 이름을 분류해내서 음성감지를 한다는 것이 놀랍습니다.\n",
        "또한 이 목소리를 이용해서 다른 컨텐츠를 더 만들수 있다니 인공지능 음성부분이\n",
        "대단한거 같습니다.\n",
        "```\n",
        "\n",
        "\n",
        "\n",
        "\n",
        "\n"
      ]
    },
    {
      "cell_type": "markdown",
      "metadata": {
        "id": "h8j9xxZV9MpX",
        "colab_type": "text"
      },
      "source": [
        "## 3.이미지\n",
        "\n",
        "---\n",
        "\n",
        "\n",
        "\n",
        "\n",
        "\n",
        "###1.   얼굴인식\n",
        "\n",
        "*   이 프로젝트에서 모델의 목표는 비디오나 이미지에서 얼굴 특징을 매핑하여 인간의 얼굴을 탐지하는 것이다.\n",
        "###2.   손 제스처 인식\n",
        "*   손동작 인식은 인간과 컴퓨터의 상호작용을 위한 중요한 주제 중 하나이다. 이 프로젝트에는 몇 가지 작업을 수행해야 한다. 여기에는 배경에서 추출해야 할 손 부위가 포함되며, 이어 손바닥과 손가락을 분할하여 손가락 움직임을 감지한다.\n",
        "###3.   이미지 분류\n",
        "*   이 프로젝트의 목적은 일련의 대상 클래스가 정의 된 이미지를 분류하는 것입니다. 모델이 레이블이 지정된 이미지를 사용하여 클래스를 식별하도록 훈련되는 일종이 지도학습이다.\n",
        "###4.   객체 추적\n",
        "*   이 프로젝트 의 목적은 제한된 환경에서 물체 추적 시스템을 개발하는 것이다. 여기에는 배경에서 물체를 감지하고 물체의 위치를 ​​추적하는 것이 포함된다. 객체 추적은 예측과 수정의 두 부분으로 구성되며 시스템은 현재 상태를 기준으로 객체의 다음 상태를 예측하고 실제 상태를 기반으로 상태를 수정한다.\n",
        "\n",
        "[이미지](http://www.aitimes.kr/news/articleView.html?idxno=15924)\n",
        "\n",
        "<img src='https://drive.google.com/uc?id=1IHD08HKByRBXQW_0sFenbsiQEHpnCIV9'\n",
        "width='700'>\n",
        "\n",
        "---\n",
        "\n",
        "\n",
        "```\n",
        "이미지 분야는 평소에 많이 쓰는 제스처라든가 얼굴인식 또 한 \n",
        "인공지능이 분석해서 해주는걸 과제를 하면서 처음 알았습니다.\n",
        "또한 물체의 이미지를 가지고 다음 상태를 예측도 가능하다는걸\n",
        "과제를 하면서 또 배웠습니다..\n",
        "```\n",
        "\n",
        "\n",
        "\n",
        "\n",
        "\n",
        "\n",
        "\n",
        "\n",
        "\n"
      ]
    },
    {
      "cell_type": "code",
      "metadata": {
        "id": "rAALfHOPWQyk",
        "colab_type": "code",
        "colab": {}
      },
      "source": [
        ""
      ],
      "execution_count": 0,
      "outputs": []
    },
    {
      "cell_type": "markdown",
      "metadata": {
        "id": "_WmPtTXD9Nch",
        "colab_type": "text"
      },
      "source": [
        "## 4.자율주행\n",
        "\n",
        "\n",
        "---\n",
        "\n",
        "\n",
        "### 1.   테슬라(Tesla)\n",
        "\n",
        "*   빅데이터, 인공지능 등 데이터를 활용하는 최신 기술을 중심으로 다양한 상품 및 융합 기술이 등장하고 있다. 스마트시티, 스마트홈 등 가정과 사회 전반에 필요한 제품과 기술이 모습을 드러내는 중이다. 그만큼 우리는 더 쉽고 편한 삶을 누리게 될 것이다. 음성으로 명령을 내리거나 필요한 물건을 주문하고, 기기가 알아서 사용자의 상태를 인식해 그에 맞는 서비스나 기능을 제공하는 식이다. 자동화 혹은 단순화를 향한 여정이 본격적으로 진행되고 있다.\n",
        "\n",
        "[자율주행](https://it.donga.com/30208/)\n",
        "\n",
        "<img src='https://drive.google.com/uc?id=1qMMlPY1BrIaFey6MUlvhmSGTxJep5IX4'\n",
        "width='600'>\n",
        "\n",
        "---\n",
        "\n",
        "\n",
        "\n",
        "\n",
        "```\n",
        "자율주행을 처음 알게된것은 태양의 후예라는 드라마를 볼 때 드라마 주인공이 \n",
        "손을 땟는데 자동차가 주행을 자동으로 해주는 것을 보고 자율주행 이란것은 \n",
        "처음 봤습니다. 벌써 인공지능이 자율주행까지 해주는 시대가 왔다면 \n",
        "더 앞으로 나가 이제 비행기 까지 도입 되는 시대가 머지않아서 올거 같습니다.\n",
        "```\n",
        "\n"
      ]
    },
    {
      "cell_type": "code",
      "metadata": {
        "id": "q6ZFwlwHWSCn",
        "colab_type": "code",
        "colab": {}
      },
      "source": [
        ""
      ],
      "execution_count": 0,
      "outputs": []
    }
  ]
}
